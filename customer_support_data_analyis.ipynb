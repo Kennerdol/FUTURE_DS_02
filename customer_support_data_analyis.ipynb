{
 "cells": [
  {
   "cell_type": "markdown",
   "id": "b0d19188",
   "metadata": {},
   "source": [
    "## Importing libraries"
   ]
  },
  {
   "cell_type": "code",
   "execution_count": null,
   "id": "1c87765e",
   "metadata": {},
   "outputs": [],
   "source": [
    "import pandas as pd\n",
    "import nltk\n",
    "from nltk.corpus import stopwords\n",
    "from nltk.tokenize import word_tokenize\n",
    "import string\n",
    "from collections import Counter\n",
    "import matplotlib.pyplot as plt\n",
    "import nltk\n",
    "import re\n",
    "import seaborn as sns"
   ]
  },
  {
   "cell_type": "markdown",
   "id": "6496e1ec",
   "metadata": {},
   "source": [
    "## Data loading and inspection"
   ]
  },
  {
   "cell_type": "code",
   "execution_count": null,
   "id": "6978ab61",
   "metadata": {},
   "outputs": [],
   "source": [
    "ticket_df = pd.read_csv(\"customer_support_tickets.csv\")\n",
    "ticket_df.info()"
   ]
  },
  {
   "cell_type": "code",
   "execution_count": null,
   "id": "1c62d33b",
   "metadata": {},
   "outputs": [],
   "source": [
    "ticket_df.describe()"
   ]
  },
  {
   "cell_type": "code",
   "execution_count": null,
   "id": "d8135e4b",
   "metadata": {},
   "outputs": [],
   "source": [
    "ticket_df.head()"
   ]
  },
  {
   "cell_type": "code",
   "execution_count": null,
   "id": "c011d874",
   "metadata": {},
   "outputs": [],
   "source": [
    "ticket_df.isnull().sum()"
   ]
  },
  {
   "cell_type": "markdown",
   "id": "1856bb64",
   "metadata": {},
   "source": [
    "## Data cleaning and preparation"
   ]
  },
  {
   "cell_type": "code",
   "execution_count": null,
   "id": "6f15b58d",
   "metadata": {},
   "outputs": [],
   "source": [
    "ticket_df.columns.tolist()"
   ]
  },
  {
   "cell_type": "code",
   "execution_count": null,
   "id": "5fec489c",
   "metadata": {},
   "outputs": [],
   "source": [
    "ticket_df.rename(columns={'Ticket ID': 'ticket_id', \n",
    "                   'Customer Name': 'cust_name', \n",
    "                   'Customer Email': 'email',\n",
    "                   'Customer Age': 'cust_age',\n",
    "                   'Customer Gender' : 'cust_gender',\n",
    "                   'Product Purchased' : 'product_purchased',\n",
    "                   'Date of Purchase': 'date_of_purchase',\n",
    "                   'Ticket Type' : 'ticket_type',\n",
    "                   'Ticket Subject' : 'ticket_subject',\n",
    "                   'Ticket Description' : 'ticket_description',\n",
    "                   'Ticket Status' : 'ticket_status',\n",
    "                   'Resolution': 'resolution',\n",
    "                   'Ticket Priority' : 'priority',\n",
    "                   'Ticket Channel' : 'channel',\n",
    "                   'First Response Time' : 'first_response_time',\n",
    "                   'Time to Resolution' : 'time_to_resolution',\n",
    "                   'Customer Satisfaction Rating' : 'satisfaction_rate'\n",
    "                  }, inplace=True)"
   ]
  },
  {
   "cell_type": "code",
   "execution_count": null,
   "id": "1ef1f8eb",
   "metadata": {},
   "outputs": [],
   "source": [
    "ticket_df.columns.tolist()"
   ]
  },
  {
   "cell_type": "code",
   "execution_count": null,
   "id": "4540be8d",
   "metadata": {},
   "outputs": [],
   "source": [
    "# Select specific columns from ticket_df\n",
    "key_columns = [\n",
    "    'ticket_id',\n",
    "    'ticket_type',\n",
    "    'ticket_subject',\n",
    "    'ticket_description',\n",
    "    'ticket_status',\n",
    "    'resolution',\n",
    "    'priority',\n",
    "    'channel',\n",
    "    'first_response_time',\n",
    "    'time_to_resolution',\n",
    "    'satisfaction_rate'\n",
    " ]\n",
    "\n",
    "\n",
    "\n",
    "# Create a new DataFrame with only the key columns\n",
    "ticket_summary_df = ticket_df[key_columns].copy()"
   ]
  },
  {
   "cell_type": "code",
   "execution_count": null,
   "id": "bad2b4e0",
   "metadata": {},
   "outputs": [],
   "source": [
    "ticket_summary_df.isnull().sum()"
   ]
  },
  {
   "cell_type": "code",
   "execution_count": null,
   "id": "6b61cd06",
   "metadata": {},
   "outputs": [],
   "source": [
    "ticket_summary_df[['ticket_status', 'resolution', 'first_response_time', 'time_to_resolution', 'satisfaction_rate']]"
   ]
  },
  {
   "cell_type": "markdown",
   "id": "53743aba",
   "metadata": {},
   "source": [
    "- resoution is null indicates that ticket still open\n",
    "- Everytime resolutions is null time_to_resolution is null because this column indicates when the ticket is resolved\n",
    "- Satisfaction is null because customer hasnt responded yet\n"
   ]
  },
  {
   "cell_type": "code",
   "execution_count": null,
   "id": "bb2bde8a",
   "metadata": {},
   "outputs": [],
   "source": [
    "ticket_per_channel  = ticket_summary_df.groupby(['channel', 'ticket_status'])['ticket_id'].count()\n",
    "ticket_per_channel"
   ]
  },
  {
   "cell_type": "code",
   "execution_count": null,
   "id": "6c6a606a",
   "metadata": {},
   "outputs": [],
   "source": [
    "# Reset index so 'channel' and 'ticket_status' become columns\n",
    "ticket_plot = ticket_per_channel.reset_index()\n",
    "\n",
    "# Set plot style\n",
    "sns.set(style=\"whitegrid\")\n",
    "\n",
    "# Create grouped bar chart\n",
    "plt.figure(figsize=(10, 6))\n",
    "ax = sns.barplot(\n",
    "    data=ticket_plot,\n",
    "    x='channel',\n",
    "    y='ticket_id',\n",
    "    hue='ticket_status',\n",
    "    palette='Set2'\n",
    ")\n",
    "\n",
    "# Add count labels on top of each bar\n",
    "for container in ax.containers:\n",
    "    ax.bar_label(container, fmt='%d', label_type='edge', fontsize=9)\n",
    "\n",
    "# Title and labels\n",
    "plt.title('Channel Tickets by Status', fontsize=14)\n",
    "plt.xlabel('Channel')\n",
    "plt.ylabel('Number of Tickets')\n",
    "plt.legend(title='Ticket Status', loc='lower right')\n",
    "plt.tight_layout()\n",
    "plt.show()"
   ]
  },
  {
   "cell_type": "code",
   "execution_count": null,
   "id": "752d6614",
   "metadata": {},
   "outputs": [],
   "source": [
    "# Parsing dates\n",
    "\n",
    "ticket_summary_df['first_response_time'] = pd.to_datetime(ticket_summary_df['first_response_time'], errors='coerce')\n",
    "ticket_summary_df['time_to_resolution'] = pd.to_datetime(ticket_summary_df['time_to_resolution'], errors='coerce')\n",
    "# Columns for null relationship\n",
    "\n",
    "ticket_summary_df['not_checked_ticket'] = pd.isnull(ticket_summary_df['first_response_time'])\n",
    "ticket_summary_df['not_resolved_ticket'] = pd.isnull(ticket_summary_df['time_to_resolution'])\n",
    "\n",
    "# Filters\n",
    "\n",
    "not_checked_tickets = ticket_summary_df[ticket_summary_df['not_checked_ticket']]\n",
    "not_resolved_tickets = ticket_summary_df[ticket_summary_df['not_resolved_ticket']]\n",
    "resolved_tickets = ticket_summary_df[~ticket_summary_df['not_resolved_ticket']] # Closed tickets"
   ]
  },
  {
   "cell_type": "code",
   "execution_count": null,
   "id": "9561e814",
   "metadata": {},
   "outputs": [],
   "source": [
    "not_resolved_tickets"
   ]
  },
  {
   "cell_type": "code",
   "execution_count": null,
   "metadata": {},
   "outputs": [],
   "source": [
    "satisfaction_count = resolved_tickets.groupby('satisfaction_rate')['ticket_id'].count()\n",
    "\n",
    "# Bar plot\n",
    "satisfaction_count.plot(kind='bar')\n",
    "plt.title('Satisfaction Rate on Resolved Ticket')\n",
    "plt.ylabel('Number of Tickets')\n",
    "plt.xlabel('Satisfaction Rate')\n",
    "plt.xticks(rotation=0)\n",
    "plt.grid(axis='y', linestyle='--', alpha=0.7)\n",
    "plt.tight_layout()\n",
    "plt.show()"
   ]
  },
  {
   "cell_type": "code",
   "execution_count": null,
   "id": "17a4ec95",
   "metadata": {},
   "outputs": [],
   "source": [
    "# Re-download NLTK data\n",
    "nltk.download('punkt')\n",
    "nltk.download('stopwords')"
   ]
  },
  {
   "cell_type": "code",
   "execution_count": null,
   "id": "3923d04b",
   "metadata": {},
   "outputs": [],
   "source": [
    "# Combine subject and description for analysis\n",
    "text_data = ticket_summary_df['ticket_subject'].fillna('') + ' ' + ticket_summary_df['ticket_description'].fillna('')\n",
    "\n",
    "# Tokenize and preprocess\n",
    "tokens = word_tokenize(' '.join(text_data).lower())\n",
    "tokens = [word for word in tokens if word.isalpha()]  # Remove punctuation/numbers\n",
    "\n",
    "# Remove stopwords\n",
    "stop_words = set(stopwords.words('english'))\n",
    "filtered_tokens = [word for word in tokens if word not in stop_words]\n",
    "\n",
    "# Get most common keywords\n",
    "word_freq = Counter(filtered_tokens)\n",
    "common_words = word_freq.most_common(10)\n",
    "top_keywords_df = pd.DataFrame(common_words, columns=['Keyword', 'Frequency'])\n",
    "\n",
    "\n"
   ]
  },
  {
   "cell_type": "code",
   "execution_count": null,
   "id": "d3400827",
   "metadata": {},
   "outputs": [],
   "source": [
    "\n",
    "# Unpack keywords and their frequencies\n",
    "keywords, frequencies = zip(*common_words)\n",
    "\n",
    "# Plot configuration\n",
    "plt.figure(figsize=(12, 6))\n",
    "plt.barh(keywords[::-1], frequencies[::-1], color='steelblue')  # Reverse for top-down order\n",
    "plt.xlabel(\"Frequency\")\n",
    "plt.title(\"Reported Keywords\")\n",
    "plt.tight_layout()\n",
    "plt.grid(axis='x', linestyle='--', alpha=0.7)\n",
    "plt.show()\n"
   ]
  },
  {
   "cell_type": "code",
   "execution_count": null,
   "id": "443493b9",
   "metadata": {},
   "outputs": [],
   "source": [
    "ticket_summary_df['response_date'] = ticket_summary_df['first_response_time'] .dt.date\n",
    "ticket_summary_df['response_time(Hours)'] = ticket_summary_df['first_response_time'].dt.hour\n",
    "\n",
    "ticket_summary_df['resolution_date'] = ticket_summary_df['time_to_resolution'] .dt.date\n",
    "ticket_summary_df['resolution_time(Hours)'] = ticket_summary_df['time_to_resolution'].dt.hour\n",
    "ticket_summary_df"
   ]
  },
  {
   "cell_type": "code",
   "execution_count": null,
   "id": "54429452",
   "metadata": {},
   "outputs": [],
   "source": [
    "# 1. Ticket volume by type\n",
    "ticket_type_counts = ticket_summary_df.groupby('ticket_type')['ticket_id'].count()\n",
    "\n",
    "# 2. Average resolution time by ticket type\n",
    "avg_resolution_time = ticket_summary_df.groupby('ticket_type')['response_time(Hours)'].mean().sort_values(ascending=False).head(10)\n",
    "\n",
    "fig, axs = plt.subplots(3, 1, figsize=(12, 18))\n",
    "\n",
    "# Plot 1: Ticket volume by type\n",
    "sns.barplot(x=ticket_type_counts.values, y=ticket_type_counts.index, ax=axs[0], palette=\"Blues_d\", hue=ticket_type_counts, legend=False)\n",
    "axs[0].set_title(\"Top 10 Ticket Types by Volume\")\n",
    "axs[0].set_xlabel(\"Number of Tickets\")\n",
    "axs[0].set_ylabel(\"Ticket Type\")\n",
    "\n",
    "# Plot 2: Average resolution time\n",
    "sns.barplot(x=avg_resolution_time.values, y=avg_resolution_time.index, ax=axs[1], palette=\"Reds_r\", hue=avg_resolution_time, legend=False)\n",
    "axs[1].set_title(\"Average Time to Resolution by Ticket Type\")\n",
    "axs[1].set_xlabel(\"Time to Resolution (Hours)\")\n",
    "axs[1].set_ylabel(\"Ticket Type\")\n",
    "\n",
    "# Plot 3: Top keywords\n",
    "sns.barplot(x='Frequency', y='Keyword', data=top_keywords_df, ax=axs[2], palette=\"Greens_r\",  hue='Keyword',legend=False)\n",
    "axs[2].set_title(\"Top 10 Keywords in Ticket Descriptions\")\n",
    "axs[2].set_xlabel(\"Frequency\")\n",
    "axs[2].set_ylabel(\"Keyword\")\n",
    "\n",
    "plt.tight_layout()\n",
    "plt.show()"
   ]
  },
  {
   "cell_type": "markdown",
   "id": "e2cf0ff4",
   "metadata": {},
   "source": [
    "Based on the customer support ticket data analysis specifically the ticket volumes, average resolution times, and common issue keywords—here are several actionable recommendations to improve response time and support efficiency:"
   ]
  },
  {
   "cell_type": "markdown",
   "id": "e877492e",
   "metadata": {},
   "source": [
    "## Prioritize High-Volume Ticket Types"
   ]
  },
  {
   "cell_type": "markdown",
   "id": "22a9285e",
   "metadata": {},
   "source": [
    "🔍 Insight:\n",
    "- Some ticket types consistently appear more frequently than others e.g., \"Login Issues\", \"Billing Queries\"\n",
    "\n",
    "✅ Action:\n",
    "- Create canned responses and automated workflows for repetitive ticket types.\n",
    "- Build a self-service knowledge base for these high-volume issues."
   ]
  },
  {
   "cell_type": "markdown",
   "id": "d286de51",
   "metadata": {},
   "source": [
    "## Optimize for Slowest-Resolved Categories"
   ]
  },
  {
   "cell_type": "markdown",
   "id": "390276bd",
   "metadata": {},
   "source": [
    "🔍 Insight:\n",
    "- Certain ticket categories e.g.\"Technical Errors\", \"System Downtime\" have the highest average resolution time.\n",
    "\n",
    "✅ Action:\n",
    "- Assign such tickets to specialized technical teams.\n",
    "- Implement escalation rules for tickets older than a threshold e.g., 48 hours.\n",
    "- Introduce ticket aging dashboards for real-time monitoring."
   ]
  },
  {
   "cell_type": "markdown",
   "id": "e412912c",
   "metadata": {},
   "source": [
    "## Leverage Keyword Insights for Routing"
   ]
  },
  {
   "cell_type": "markdown",
   "id": "7dd8e422",
   "metadata": {},
   "source": [
    "🔍 Insight:\n",
    "- Keyword frequency analysis (e.g., frequent words like \"error\", \"login\", \"access\", \"payment\") reveals common user frustrations.\n",
    "\n",
    "✅ Action:\n",
    "- Use natural language processing (NLP) to classify and auto-route incoming tickets based on keyword patterns.\n",
    "- Train chatbot models on these keywords to handle tier-1 issues."
   ]
  },
  {
   "cell_type": "markdown",
   "id": "0745dfeb",
   "metadata": {},
   "source": [
    "## Improve Agent Training Based on Common Issues"
   ]
  },
  {
   "cell_type": "markdown",
   "id": "7b666222",
   "metadata": {},
   "source": [
    "🔍 Insight:\n",
    "- Common complaint categories indicate training gaps.\n",
    "\n",
    "✅ Action:\n",
    "- Develop scenario based training modules around the top 5 recurring problems.\n",
    "- Share monthly trend reports with support staff."
   ]
  },
  {
   "cell_type": "markdown",
   "id": "684cf223",
   "metadata": {},
   "source": [
    "## Automate First-Level Responses"
   ]
  },
  {
   "cell_type": "markdown",
   "id": "cdc734dd",
   "metadata": {},
   "source": [
    "🔍 Insight:\n",
    "- Many tickets take long to receive even their first response, not just resolution.\n",
    "\n",
    "✅ Action:\n",
    "- Set up automated acknowledgments and intelligent chatbots to capture issue context before human intervention.\n",
    "- Enable agents to see similar historical tickets as reference."
   ]
  },
  {
   "cell_type": "markdown",
   "id": "1f7bac72",
   "metadata": {},
   "source": [
    "## Monitor KPIs and Continuous Feedback"
   ]
  },
  {
   "cell_type": "markdown",
   "id": "11da788c",
   "metadata": {},
   "source": [
    "✅ Action:\n",
    "- Track KPIs:\n",
    "\n",
    "    - Avg. Resolution Time\n",
    "\n",
    "    - First Response Time\n",
    "\n",
    "- Conduct monthly retrospectives to identify improvement areas."
   ]
  }
 ],
 "metadata": {
  "kernelspec": {
   "display_name": "base",
   "language": "python",
   "name": "python3"
  },
  "language_info": {
   "codemirror_mode": {
    "name": "ipython",
    "version": 3
   },
   "file_extension": ".py",
   "mimetype": "text/x-python",
   "name": "python",
   "nbconvert_exporter": "python",
   "pygments_lexer": "ipython3",
   "version": "3.12.7"
  }
 },
 "nbformat": 4,
 "nbformat_minor": 5
}
